{
 "cells": [
  {
   "cell_type": "code",
   "execution_count": 149,
   "outputs": [],
   "source": [
    "import json\n",
    "\n",
    "\n",
    "class AvroObject:\n",
    "    def __init__(self, schema: dict, data: dict):\n",
    "        self.schema = schema\n",
    "        self.data = data\n",
    "\n",
    "    @property\n",
    "    def entity(self):\n",
    "        class_name = self.schema.get(\"name\")\n",
    "        o = eval(f\"{class_name}()\")\n",
    "        for key, value in self.data.items():\n",
    "            setattr(o, key, value)\n",
    "        return o\n",
    "\n",
    "\n",
    "class AvroSchema:\n",
    "    def __init__(self, url: str):\n",
    "        self.url = url\n",
    "\n",
    "    @staticmethod\n",
    "    def schema(\n",
    "            schema_namespace: str = None,\n",
    "            schema_name: str = None,\n",
    "            attrs: dict = None,\n",
    "            obj: object = None,\n",
    "            schema_type=\"record\",\n",
    "            data_types: dict = None\n",
    "    ) -> dict:\n",
    "\n",
    "        if obj is None and attrs is None:\n",
    "            raise ValueError(\"attrs or o must be specified!\")\n",
    "\n",
    "        if obj is None and schema_name is None:\n",
    "            raise ValueError(\"schema_name must be specified!\")\n",
    "\n",
    "        if schema_name is None and attrs is not None:\n",
    "            raise ValueError(\"schema_name must be specified!\")\n",
    "\n",
    "        schema_name = schema_name or obj.__class__.__name__\n",
    "\n",
    "        if attrs is None:\n",
    "            attrs = obj.__dict__\n",
    "\n",
    "        data_types = data_types or {}\n",
    "        schema_dict = {\n",
    "            \"type\": schema_type,\n",
    "            \"name\": schema_name,\n",
    "            \"namespace\": schema_namespace,\n",
    "            \"fields\": []\n",
    "        }\n",
    "        for k in attrs.keys():\n",
    "            if k in data_types.keys():\n",
    "                avro_type = data_types[k]\n",
    "            else:\n",
    "                avro_type = AvroSchema.get_type(value=attrs[k], data_type=type(attrs[k]))\n",
    "\n",
    "            schema_dict[\"fields\"].append({\"name\": k, \"type\": avro_type})\n",
    "        return schema_dict\n",
    "\n",
    "    def schema_str(self):\n",
    "        return json.dumps(self.schema())\n",
    "\n",
    "    @staticmethod\n",
    "    def get_type(value: object, data_type: type = None):\n",
    "\n",
    "        if value is None and data_type is None:\n",
    "            raise TypeError(\"value is None but the type is not explicit in data_types\")\n",
    "\n",
    "        if data_type is None:\n",
    "            dt = type(value)\n",
    "        else:\n",
    "            dt = data_type\n",
    "\n",
    "        if dt == str:\n",
    "            return \"string\"\n",
    "        elif dt == int:\n",
    "            return \"int\"\n",
    "        elif dt == float:\n",
    "            return \"float\"\n",
    "        elif dt == bool:\n",
    "            return \"boolean\"\n",
    "        elif dt == list:\n",
    "            if len(value) == 0:\n",
    "                return {\"type\": \"array\", \"items\": \"string\", \"default\": []}\n",
    "            else:\n",
    "                return {\"type\": \"array\", \"items\": AvroSchema.get_type(value[0]), \"default\": []}\n",
    "        elif dt == dict:\n",
    "            if len(value) == 0:\n",
    "                return {\"type\": \"map\", \"values\": \"string\", \"default\": {}}\n",
    "            else:\n",
    "                return {\"type\": \"map\", \"values\": AvroSchema.get_type(list(value.values())[0]), \"default\": {}}\n",
    "        else:\n",
    "            raise TypeError(f\"{type(value)} unknown\")\n"
   ],
   "metadata": {
    "collapsed": false,
    "ExecuteTime": {
     "end_time": "2023-07-30T17:46:08.323990Z",
     "start_time": "2023-07-30T17:46:08.322246Z"
    }
   }
  },
  {
   "cell_type": "code",
   "execution_count": 150,
   "outputs": [
    {
     "name": "stdout",
     "output_type": "stream",
     "text": [
      "{'temp': 10, 'historical': [1, 3, 5, 7, 9], 'sensors': {'um': [1, 2, 3], 'dois': [4, 5, 6]}}\n"
     ]
    }
   ],
   "source": [
    "class MyObject:\n",
    "    def __init__(self):\n",
    "        self.temp = 10\n",
    "        self.historical = [1, 3, 5, 7, 9]\n",
    "        self.sensors = {\"um\": [1, 2, 3], \"dois\": [4, 5, 6]}\n",
    "\n",
    "\n",
    "print(MyObject().__dict__)\n"
   ],
   "metadata": {
    "collapsed": false,
    "ExecuteTime": {
     "end_time": "2023-07-30T17:46:08.639709Z",
     "start_time": "2023-07-30T17:46:08.632989Z"
    }
   }
  },
  {
   "cell_type": "code",
   "execution_count": 151,
   "outputs": [
    {
     "name": "stdout",
     "output_type": "stream",
     "text": [
      "{'type': 'record', 'name': 'MyObject', 'namespace': None, 'fields': [{'name': 'temp', 'type': 'int'}, {'name': 'historical', 'type': {'type': 'array', 'items': 'int', 'default': []}}, {'name': 'sensors', 'type': {'type': 'map', 'values': {'type': 'array', 'items': 'int', 'default': []}, 'default': {}}}]}\n",
      "{'temp': 10, 'historical': [1, 3, 5, 7, 9], 'sensors': {'um': [1, 2, 3], 'dois': [4, 5, 6]}}\n"
     ]
    }
   ],
   "source": [
    "o = MyObject()\n",
    "schema = AvroSchema.schema(obj=o)\n",
    "print(schema)\n",
    "print(o.__dict__)\n",
    "\n",
    "avro_object = AvroObject(schema=schema, data=o.__dict__)\n"
   ],
   "metadata": {
    "collapsed": false,
    "ExecuteTime": {
     "end_time": "2023-07-30T17:46:08.952505Z",
     "start_time": "2023-07-30T17:46:08.945598Z"
    }
   }
  },
  {
   "cell_type": "code",
   "execution_count": 81,
   "outputs": [
    {
     "name": "stdout",
     "output_type": "stream",
     "text": [
      "{'temp': 10, 'local': 'Outside', 'historical': [1, 3, 5, 7, 9], 'sensors': {'um': 'umv', 'dois': 'vdois'}}\n"
     ]
    }
   ],
   "source": [
    "x = avro_object.entity\n",
    "print(x.__dict__)"
   ],
   "metadata": {
    "collapsed": false,
    "ExecuteTime": {
     "end_time": "2023-07-30T10:47:04.363645Z",
     "start_time": "2023-07-30T10:47:04.357578Z"
    }
   }
  },
  {
   "cell_type": "code",
   "execution_count": 51,
   "outputs": [
    {
     "name": "stdout",
     "output_type": "stream",
     "text": [
      "1\n"
     ]
    }
   ],
   "source": [
    "x = {\"um\": 1, \"dois\": 2}\n",
    "y = list(x.values())[0]\n",
    "print(y)"
   ],
   "metadata": {
    "collapsed": false,
    "ExecuteTime": {
     "end_time": "2023-07-30T10:28:44.901334Z",
     "start_time": "2023-07-30T10:28:44.897257Z"
    }
   }
  },
  {
   "cell_type": "code",
   "execution_count": 117,
   "outputs": [
    {
     "data": {
      "text/plain": "True"
     },
     "execution_count": 117,
     "metadata": {},
     "output_type": "execute_result"
    }
   ],
   "source": [
    "a=\"olá\"\n",
    "t = type(a)\n",
    "t==str"
   ],
   "metadata": {
    "collapsed": false,
    "ExecuteTime": {
     "end_time": "2023-07-30T14:17:08.380667Z",
     "start_time": "2023-07-30T14:17:08.377749Z"
    }
   }
  },
  {
   "cell_type": "code",
   "execution_count": null,
   "outputs": [],
   "source": [
    "class AvroSerializer:\n",
    "    def __init__(self, schema: str):\n",
    "        avro_schema = avro.schema.Parse(json.dumps(schema))\n",
    "        self.writer = avro.io.DatumWriter(avro_schema)\n",
    "\n",
    "        self.bytes_writer = io.BytesIO()\n",
    "        self.encoder = avro.io.BinaryEncoder(self.bytes_writer)\n",
    "\n",
    "    def append(self, row_dict: dict):\n",
    "        self.writer.write(row_dict, self.encoder)\n",
    "\n",
    "    def get_raw_value(self):\n",
    "        return self.bytes_writer.getvalue()\n",
    "\n",
    "    def get_b64_value(self):\n",
    "        return base64.b64encode(self.get_raw_value()).decode()\n",
    "\n",
    "\n",
    "class AvroDeserializer:\n",
    "    def __init__(self, schema_url: str, schema_file: str):\n",
    "        avro_schema = read_update(schema_url, schema_file)\n",
    "        self.reader = avro.io.DatumReader(avro_schema)\n",
    "\n",
    "    def deserialize_raw_value(self, raw_bytes: bytes):\n",
    "        message_bytes = io.BytesIO(raw_bytes)\n",
    "        decoder = avro.io.BinaryDecoder(message_bytes)\n",
    "        return self.reader.read(decoder)\n",
    "\n",
    "    def deserialize_b64_value(self, b64string: str):\n",
    "        base64_str = base64.b64decode(b64string)\n",
    "        message_bytes = io.BytesIO(base64_str)\n",
    "        decoder = avro.io.BinaryDecoder(message_bytes)\n",
    "        return self.reader.read(decoder)\n"
   ],
   "metadata": {
    "collapsed": false
   }
  },
  {
   "cell_type": "code",
   "execution_count": 153,
   "outputs": [
    {
     "name": "stdout",
     "output_type": "stream",
     "text": [
      "{'a': 'bla', None: 'bli'}\n"
     ]
    }
   ],
   "source": [
    "d = {}\n",
    "d[\"a\"] = \"bla\"\n",
    "d[None] = \"ble\"\n",
    "d[None] = \"bli\"\n",
    "\n",
    "print(d)"
   ],
   "metadata": {
    "collapsed": false,
    "ExecuteTime": {
     "end_time": "2023-07-30T18:45:29.140651Z",
     "start_time": "2023-07-30T18:45:29.136761Z"
    }
   }
  },
  {
   "cell_type": "code",
   "execution_count": 156,
   "outputs": [
    {
     "data": {
      "text/plain": "'http://localhost:8080'"
     },
     "execution_count": 156,
     "metadata": {},
     "output_type": "execute_result"
    }
   ],
   "source": [
    "\"http://localhost:8080\".rstrip(\"/\")"
   ],
   "metadata": {
    "collapsed": false,
    "ExecuteTime": {
     "end_time": "2023-07-30T20:34:19.271350Z",
     "start_time": "2023-07-30T20:34:19.266384Z"
    }
   }
  },
  {
   "cell_type": "code",
   "execution_count": 47,
   "outputs": [
    {
     "data": {
      "text/plain": "False"
     },
     "execution_count": 47,
     "metadata": {},
     "output_type": "execute_result"
    }
   ],
   "source": [],
   "metadata": {
    "collapsed": false,
    "ExecuteTime": {
     "end_time": "2023-08-02T16:49:15.378724Z",
     "start_time": "2023-08-02T16:49:15.374994Z"
    }
   }
  }
 ],
 "metadata": {
  "kernelspec": {
   "display_name": "Python 3",
   "language": "python",
   "name": "python3"
  },
  "language_info": {
   "codemirror_mode": {
    "name": "ipython",
    "version": 2
   },
   "file_extension": ".py",
   "mimetype": "text/x-python",
   "name": "python",
   "nbconvert_exporter": "python",
   "pygments_lexer": "ipython2",
   "version": "2.7.6"
  }
 },
 "nbformat": 4,
 "nbformat_minor": 0
}
